{
 "cells": [
  {
   "cell_type": "markdown",
   "metadata": {},
   "source": [
    "# Regular Expressions"
   ]
  },
  {
   "cell_type": "markdown",
   "metadata": {},
   "source": [
    "# Tasks today:\n",
    "1) <b>Importing</b> <br>\n",
    "2) <b>Using Regular Expressions</b> <br>\n",
    " &nbsp;&nbsp;&nbsp;&nbsp; a) re.compile() <br>\n",
    " &nbsp;&nbsp;&nbsp;&nbsp; b) re.match() <br>\n",
    " &nbsp;&nbsp;&nbsp;&nbsp; c) re.findall() <br>\n",
    " &nbsp;&nbsp;&nbsp;&nbsp; d) re.search() <br>\n",
    "3) <b>Sets</b> <br>\n",
    " &nbsp;&nbsp;&nbsp;&nbsp; a) Integer Ranges <br>\n",
    " &nbsp;&nbsp;&nbsp;&nbsp; b) Character Ranges <br>\n",
    "4) <b>Counting Occurences</b> <br>\n",
    " &nbsp;&nbsp;&nbsp;&nbsp; a) {x} <br>\n",
    " &nbsp;&nbsp;&nbsp;&nbsp; b) {, x} <br>\n",
    " &nbsp;&nbsp;&nbsp;&nbsp; c) {?} <br>\n",
    " &nbsp;&nbsp;&nbsp;&nbsp; d) {*} <br>\n",
    " &nbsp;&nbsp;&nbsp;&nbsp; e) {+} <br>\n",
    "5) <b>In-Class Exercise #1</b> <br>\n",
    "6) <b>Escaping Characters</b> <br>\n",
    "7) <b>Grouping</b> <br>\n",
    "8) <b>In-Class Exercise #2</b> <br>\n",
    "9) <b>Opening a File</b> <br>\n",
    " &nbsp;&nbsp;&nbsp;&nbsp; a) open() <br>\n",
    " &nbsp;&nbsp;&nbsp;&nbsp; b) with open() <br>\n",
    " &nbsp;&nbsp;&nbsp;&nbsp; c) re.match() <br>\n",
    " &nbsp;&nbsp;&nbsp;&nbsp; d) re.search() <br>\n",
    " &nbsp;&nbsp;&nbsp;&nbsp; e) Store the String in a Variable <br>\n",
    "10) <b>Regex Project</b> <br>"
   ]
  },
  {
   "cell_type": "markdown",
   "metadata": {},
   "source": [
    "### Importing <br>\n",
    "<p>Regular Expressions are universal throughout most programming languages... They are generally imported through the module 're'.</p>"
   ]
  },
  {
   "cell_type": "code",
   "execution_count": 3,
   "metadata": {},
   "outputs": [],
   "source": [
    "# import re\n",
    "import re"
   ]
  },
  {
   "cell_type": "markdown",
   "metadata": {},
   "source": [
    "### Using Regular Expressions <br>\n",
    "<p>Regular expressions give us the ability to search for patterns within text, strings, files, etc. They serve several uses, such as; security measures, searching, filtering, pattern recognition, and more...</p>"
   ]
  },
  {
   "cell_type": "markdown",
   "metadata": {},
   "source": [
    "#### RegEx Cheatsheet"
   ]
  },
  {
   "cell_type": "code",
   "execution_count": null,
   "metadata": {},
   "outputs": [],
   "source": [
    "########################\n",
    "# DO NOT RUN THIS CELL #\n",
    "########################\n",
    "\n",
    "a, X, 9, < -- ordinary characters just match themselves exactly.\n",
    ". (a period) -- matches any single character except newline '\\n'\n",
    "\\w -- matches a \"word\" character: a letter or digit or underscore [a-zA-Z0-9_].\n",
    "\\W -- matches any non-word character.\n",
    "\\b -- matches word boundary (in between a word character and a non word character)\n",
    "\\s -- matches a single whitespace character -- space, newline, return, tab\n",
    "\\S -- matches any non-whitespace character.\n",
    "\\t, \\n, \\r -- tab, newline, return\n",
    "\\d -- matches any numeric digit [0-9]\n",
    "\\D matches any non-numeric character.\n",
    "^ -- matches the beginning of the string, or specify omition of certain characters\n",
    "$ -- matches the end of the string\n",
    "\\ -- escapes special character.\n",
    "(x|y|z) matches exactly one of x, y or z.\n",
    "(x) in general is a remembered group. We can get the value of what matched by using the groups() method of the object returned by re.search.\n",
    "x? matches an optional x character (in other words, it matches an x zero or one times).\n",
    "x* matches x zero or more times.\n",
    "x+ matches x one or more times.\n",
    "x{m,n} matches an x character at least m times, but not more than n times.\n",
    "?: matches an expression but do not capture it. Non capturing group.\n",
    "?= matches a suffix but exclude it from capture. Positive lookahead.\n",
    "a(?=b) will match the \"a\" in \"ab\", but not the \"a\" in \"ac\"\n",
    "In other words, a(?=b) matches the \"a\" which is followed by the string 'b', without consuming what follows the a.\n",
    "?! matches if suffix is absent. Negative look ahead.\n",
    "a(?!b) will match the \"a\" in \"ac\", but not the \"a\" in \"ab\"\n",
    "?<= positive look behind\n",
    "[] matches for groupings of consecutive characters\n",
    "?<! negative look behind\n",
    "\n",
    "[^0-9] matches any non-digit character\n",
    "[a-zA-Z] matches any letter (Add+ to find words but strip everything else)\n",
    "\n",
    "########################\n",
    "# DO NOT RUN THIS CELL #\n",
    "########################"
   ]
  },
  {
   "cell_type": "markdown",
   "metadata": {},
   "source": [
    "##### re.compile()"
   ]
  },
  {
   "cell_type": "code",
   "execution_count": null,
   "metadata": {},
   "outputs": [],
   "source": [
    "# using compile, pre determines the string to be used in regular expression methods\n",
    "pattern = re.compile('123abcd')\n",
    "pattern\n"
   ]
  },
  {
   "cell_type": "markdown",
   "metadata": {},
   "source": [
    "##### re.match()"
   ]
  },
  {
   "cell_type": "code",
   "execution_count": null,
   "metadata": {},
   "outputs": [],
   "source": [
    "#specifically looks for a match at the start of a string\n",
    "\n",
    "match = pattern.match('abcd12334566aecrgtrt')\n",
    "print(match)\n",
    "# Accessing the span of the match\n",
    "print(match.span())\n",
    "'abcd12334566aecrgtrt'[0:4]"
   ]
  },
  {
   "cell_type": "markdown",
   "metadata": {},
   "source": [
    "##### re.findall()"
   ]
  },
  {
   "cell_type": "code",
   "execution_count": null,
   "metadata": {},
   "outputs": [],
   "source": [
    "# much more inclusive than match. Will return all instances of found pattern as a list, but no indeces given\n",
    "\n",
    "finders = pattern.findall('123abcdab123cdababcaabcd123abcdabcd123RegExisfunaf')\n",
    "print(finders)\n",
    "re.findall"
   ]
  },
  {
   "cell_type": "markdown",
   "metadata": {},
   "source": [
    "##### re.search()"
   ]
  },
  {
   "cell_type": "code",
   "execution_count": null,
   "metadata": {},
   "outputs": [],
   "source": [
    "#looking for the first instance of the match anywhere in the string, vs match which specifically looks at index[0]\n",
    "\n",
    "random_string = \"123 123 234 123abcd abcd abc\"\n",
    "\n",
    "searching = pattern.search(random_string)\n",
    "print(searching)\n",
    "\n",
    "span = searching.span()\n",
    "print(random_string[span[0]: span[1]])\n"
   ]
  },
  {
   "cell_type": "markdown",
   "metadata": {},
   "source": [
    "### Sets <br>\n",
    "<p>The following cells will allow you to use regular expressions to search for certain values within a range such as numbers 1 through 4.</p>"
   ]
  },
  {
   "cell_type": "markdown",
   "metadata": {},
   "source": [
    "##### [a-z] or [A-Z] - any lowercase/uppercase letters from a to z<br/>[^2] - anything that's not 2"
   ]
  },
  {
   "cell_type": "markdown",
   "metadata": {},
   "source": [
    "##### Integer Ranges"
   ]
  },
  {
   "cell_type": "code",
   "execution_count": null,
   "metadata": {},
   "outputs": [],
   "source": [
    "pattern_int = re.compile('[0-7][7-9][0-3]')\n",
    "\n",
    "test = '67383'\n",
    "\n",
    "random_numbers = pattern_int.search(test)\n",
    "span = random_numbers.span()\n",
    "print(test[span[0]:span[1]])"
   ]
  },
  {
   "cell_type": "markdown",
   "metadata": {},
   "source": [
    "##### Character Ranges"
   ]
  },
  {
   "cell_type": "code",
   "execution_count": null,
   "metadata": {},
   "outputs": [],
   "source": [
    "char_pattern = re.compile('[A-Z][a-z]')\n",
    "\n",
    "found = char_pattern.findall('Hello there, Mr. Anderson')\n",
    "print(found)"
   ]
  },
  {
   "cell_type": "markdown",
   "metadata": {},
   "source": [
    "### Counting Occurences"
   ]
  },
  {
   "cell_type": "markdown",
   "metadata": {},
   "source": [
    "##### {x} - something that occurs {num_of_times}"
   ]
  },
  {
   "cell_type": "code",
   "execution_count": null,
   "metadata": {},
   "outputs": [],
   "source": [
    "char_pattern_count = re.compile('[A-Z][a-z][0-3]{2}')\n",
    "\n",
    "found_count = char_pattern_count.findall('Hello there Mr. An31derson')\n",
    "print(found_count)"
   ]
  },
  {
   "cell_type": "markdown",
   "metadata": {},
   "source": [
    "##### {x, x} - something that occurs between x and x times"
   ]
  },
  {
   "cell_type": "code",
   "execution_count": null,
   "metadata": {},
   "outputs": [],
   "source": [
    "random_pattern = re.compile('m{1,5}') #this is different than range numbers. In this case, the second number is included. \n",
    "random_statement = random_pattern.findall('This m is an example of a regular expression trying to find one m, more than one mmm or five mmmmms')\n",
    "\n",
    "print(random_statement)"
   ]
  },
  {
   "cell_type": "markdown",
   "metadata": {},
   "source": [
    "##### ? - something that occurs 0 or 1 time"
   ]
  },
  {
   "cell_type": "code",
   "execution_count": null,
   "metadata": {},
   "outputs": [],
   "source": [
    "pattern_1 = re.compile('Mrss?')\n",
    "\n",
    "found_1 = pattern_1.findall('Hello there, Mr. Anderson. How is Mrs. Anderson, and Mrss. Anderson?')\n",
    "\n",
    "found_1"
   ]
  },
  {
   "cell_type": "markdown",
   "metadata": {},
   "source": [
    "##### * - something that occurs at least 0 times"
   ]
  },
  {
   "cell_type": "code",
   "execution_count": null,
   "metadata": {},
   "outputs": [],
   "source": [
    "pattern_m = re.compile('M*s')\n",
    "\n",
    "found_m = pattern_m.findall('MMMs name is Ms. Smith. This is Mssss Anderson')\n",
    "\n",
    "print(found_m)"
   ]
  },
  {
   "cell_type": "markdown",
   "metadata": {},
   "source": [
    "##### + - something that occurs at least once"
   ]
  },
  {
   "cell_type": "code",
   "execution_count": null,
   "metadata": {},
   "outputs": [],
   "source": [
    "pattern_2 = re.compile('M+s')\n",
    "\n",
    "found_2 = pattern_2.findall('MMMs name is Ms. Smith. This is Mssssss Anderson')\n",
    "\n",
    "print(found_2)"
   ]
  },
  {
   "cell_type": "markdown",
   "metadata": {},
   "source": [
    "##### In-class exercise 1: \n",
    "\n",
    "Use a regular expression to find every number in the given string"
   ]
  },
  {
   "cell_type": "code",
   "execution_count": null,
   "metadata": {},
   "outputs": [],
   "source": [
    "number_patt = re.compile('[0-9]+')\n",
    "my_string = \"This string has 10909090 numbers, but it is only 1 string. I hope you solve this 2day.\"\n",
    "found_nums = number_patt.findall(my_string)\n",
    "print(found_nums)"
   ]
  },
  {
   "cell_type": "markdown",
   "metadata": {},
   "source": [
    "### Escaping Characters"
   ]
  },
  {
   "cell_type": "markdown",
   "metadata": {},
   "source": [
    "##### \\w - look for any Unicode character<br/>\\W - look for anything that isnt a Unicode character\n",
    "\n",
    "[History on Unicode](http://unicode.org/standard/WhatIsUnicode.html)\n",
    "\n",
    "[More on Unicode Characters](https://en.wikipedia.org/wiki/List_of_Unicode_characters)"
   ]
  },
  {
   "cell_type": "code",
   "execution_count": null,
   "metadata": {},
   "outputs": [],
   "source": [
    "pattern_3 = re.compile('[\\w]+')\n",
    "pattern_4 = re.compile('[\\W]+')\n",
    "\n",
    "found_3 = pattern_3.findall('This is a sentence. With an exlamation mark at the end!')\n",
    "found_4 = pattern_4.findall('This is a sentence. With an exlamation mark at the end!')\n",
    "\n",
    "print(found_3)\n",
    "print(found_4)"
   ]
  },
  {
   "cell_type": "markdown",
   "metadata": {},
   "source": [
    "##### \\d - look for any digit 0-9<br/>\\D - look for anything that isnt a digit"
   ]
  },
  {
   "cell_type": "code",
   "execution_count": null,
   "metadata": {},
   "outputs": [],
   "source": [
    "pattern_nums = re.compile('\\d+[a-z]{2}')\n",
    "found_date = pattern_nums.findall('Today is the 19th, tomorrow is the 20th. My birthday is the 3rd. Today is the 100th day of the year.')\n",
    "# Today is the 19th, tomorrow is the 20th. My birthday is the 3rd.\n",
    "\n",
    "print(found_date)\n",
    "for date in found_date:\n",
    "    print(date)"
   ]
  },
  {
   "cell_type": "markdown",
   "metadata": {},
   "source": [
    "##### \\s - look for any white space<br/>\\S - look for anything that isnt whitespace"
   ]
  },
  {
   "cell_type": "code",
   "execution_count": null,
   "metadata": {},
   "outputs": [],
   "source": [
    "pattern_no_space = re.compile('\\S[a-z]+')\n",
    "pattern_space = re.compile('\\s+')\n",
    "\n",
    "found_space = pattern_space.findall('Are you afraid   of the  dark??')\n",
    "print(found_space)\n",
    "\n",
    "found_no_space = pattern_no_space.findall('Are you afraid   of the  dark??')\n",
    "print(found_no_space)\n"
   ]
  },
  {
   "cell_type": "markdown",
   "metadata": {},
   "source": [
    "##### \\b - look for boundaries or edges of a word<br/>\\B - look for anything that isnt a boundary"
   ]
  },
  {
   "cell_type": "code",
   "execution_count": null,
   "metadata": {},
   "outputs": [],
   "source": [
    "#not very commonly used. Essentially looks for spaces or \\n or \\t. \n",
    "# Good use case is if looking for a whole word that is not a subset of another word\n",
    "# need the r to make raw string before the quotes in the compile constructor\n",
    "\n",
    "\"Thecodingtemple\"\n",
    "\n",
    "pattern_boundary = re.compile(r'\\bTheCodingTemple\\b')\n",
    "pattern_not_bound = re.compile(r'\\BTheCodingTemple\\B') #looking for TheCodingTemple that does NOT have boundaries\n",
    "\n",
    "found_bound = pattern_boundary.findall('       TheCodingTemple    ')\n",
    "print(found_bound)\n",
    "\n",
    "no_found_bound = pattern_not_bound.findall('1234TheCodingTempleblahblahblahetc')\n",
    "print(no_found_bound)"
   ]
  },
  {
   "cell_type": "code",
   "execution_count": null,
   "metadata": {},
   "outputs": [],
   "source": [
    "# looking for just letters in a string: re.compile('[a-zA-Z]+'). \n",
    "#If you're just looking for characters that aren't numbers, it's [^0-9]\n"
   ]
  },
  {
   "cell_type": "markdown",
   "metadata": {},
   "source": [
    "### Grouping"
   ]
  },
  {
   "cell_type": "code",
   "execution_count": null,
   "metadata": {},
   "outputs": [],
   "source": [
    "my_string_again = \"Max Smith, aaron rodgers, Sam Darnold, LeBron James, Micheal Jordan, Kevin Durant, Patrick McCormick\"\n",
    "\n",
    "#group of names RegEx compiler using 2 separate groups for first/last names\n",
    "\n",
    "pattern_first = re.compile('([A-Z][a-zA-Z]+) ([A-Z][a-zA-Z]+)')\n",
    "\n",
    "found_names = pattern_first.findall(my_string_again)\n",
    "print(found_names)\n",
    "\n",
    "# for name in found_names:\n",
    "#     print(f'First Name: {name[0]} \\n Last Name: {name[1]}')\n",
    "    \n",
    "#Splitting and using .search() syntax to get a match object\n",
    "\n",
    "for name in my_string_again.split(', '):\n",
    "    match = pattern_first.search(name)\n",
    "    \n",
    "    if match:\n",
    "        print(name)\n",
    "    else:\n",
    "        print('Not a name')"
   ]
  },
  {
   "cell_type": "markdown",
   "metadata": {},
   "source": [
    "##### In-class Exercise 2:\n",
    "\n",
    "Write a function using regular expressions to find the domain name in the given email addresses (and return None for the invalid email addresses)<br><b>HINT: Use '|' for either or</b>"
   ]
  },
  {
   "cell_type": "code",
   "execution_count": null,
   "metadata": {},
   "outputs": [],
   "source": [
    "my_emails = [\"jordanw@codingtemple.orgcom\", \"pocohontas1776@gmail.com\", \"helloworld@aol..com\",\n",
    "             \"yourfavoriteband@g6.org\", \"@codingtemple.com\"]\n",
    "\n",
    "# email_pattern = re.compile('([A-Za-z0-9]+)@([A-Za-z0-9]+)(com|org$)')\n",
    "#looking \n",
    "def identifyEmails(a_list): # will give me a more properly formatted email in this case\n",
    "    email_pattern = re.compile('([\\w]+)@([\\w]+).(com|org)$')\n",
    "    for user in a_list:\n",
    "        if email_pattern.match(user):\n",
    "            print(user)\n",
    "        else:\n",
    "            print('None')\n",
    "\n",
    "def identify_Emails(a_list): #will give 'metadata' style result\n",
    "    email_pattern = re.compile('([\\w]+)@([\\w]+).(com|org)$')\n",
    "    for user in a_list:\n",
    "        email = email_pattern.search(user)\n",
    "        if email:\n",
    "            print(email)\n",
    "        else:\n",
    "            print('None')\n",
    "            \n",
    "identifyEmails(my_emails)\n",
    "\n",
    "identify_Emails(my_emails)\n",
    "\n",
    "# You can also use the $ at the end of your compile expression -- this stops the search\n",
    "\n",
    "#.com OR .org => com|org\n",
    "\n",
    "#Expected output:\n",
    "#None\n",
    "#pocohontas1776@gmail.com\n",
    "#None\n",
    "#yourfavoriteband@g6.org\n",
    "#None\n",
    "\n",
    "# for address in addresses:\n",
    "#     print address\n"
   ]
  },
  {
   "cell_type": "markdown",
   "metadata": {},
   "source": [
    "### Opening a File <br>\n",
    "<p>Python gives us a couple ways to import files, below are the two used most often.</p>"
   ]
  },
  {
   "cell_type": "markdown",
   "metadata": {},
   "source": [
    "##### open()"
   ]
  },
  {
   "cell_type": "code",
   "execution_count": null,
   "metadata": {},
   "outputs": [],
   "source": [
    "file = open(\"files/names.txt\") #opens the file but doesn't do anything with it yet\n",
    "\n",
    "data = file.read() #actually reads the information\n",
    "print(data)\n",
    "\n",
    "file.close() #get in the habit of closing the file you just opened so it doesn't sit open in the background"
   ]
  },
  {
   "cell_type": "markdown",
   "metadata": {},
   "source": [
    "##### with open()"
   ]
  },
  {
   "cell_type": "code",
   "execution_count": null,
   "metadata": {},
   "outputs": [],
   "source": [
    "#with open() tells python what to do with the file, and once it's done, it automattically closes it.\n",
    "\n",
    "with open('files/names.txt') as file: \n",
    "    data = file.read()\n",
    "    print(data)"
   ]
  },
  {
   "cell_type": "markdown",
   "metadata": {},
   "source": [
    "##### re.match()"
   ]
  },
  {
   "cell_type": "code",
   "execution_count": null,
   "metadata": {},
   "outputs": [],
   "source": [
    "#with the read data, you can match, search, findall, etc.\n",
    "# because THIS IS ONE GIANT STRING!!!\n",
    "\n",
    "print(re.match('Hawkins, Derek', data))"
   ]
  },
  {
   "cell_type": "markdown",
   "metadata": {},
   "source": [
    "##### re.search()"
   ]
  },
  {
   "cell_type": "code",
   "execution_count": null,
   "metadata": {},
   "outputs": [],
   "source": [
    "print(re.search('vader', data))"
   ]
  },
  {
   "cell_type": "markdown",
   "metadata": {},
   "source": [
    "##### Store the String to a Variable"
   ]
  },
  {
   "cell_type": "code",
   "execution_count": null,
   "metadata": {},
   "outputs": [],
   "source": [
    "answer = input('What do you want to look for?')\n",
    "\n",
    "found = re.findall(answer, data)\n",
    "\n",
    "if found:\n",
    "    print(f'Here is your answer...{found}')\n",
    "else:\n",
    "    print('Sorry -- you have the wrong number.')"
   ]
  },
  {
   "cell_type": "markdown",
   "metadata": {},
   "source": [
    "### Homework Exercise 1 <br>\n",
    "<p>Print each persons name and twitter handle, using groups, should look like:</p>\n",
    "<p>==============<br>\n",
    "   Full Name / Twitter<br>\n",
    "   ==============</p>\n",
    "Derek Hawkins / @derekhawkins\n",
    "\n",
    " Erik Sven-Osterberg / @sverik\n",
    "\n",
    " Ryan Butz / @ryanbutz\n",
    "\n",
    " Example Exampleson / @example\n",
    "\n",
    " Ripal Pael / @ripalp\n",
    "\n",
    " Darth Vader / @darthvader"
   ]
  },
  {
   "cell_type": "code",
   "execution_count": 20,
   "metadata": {
    "scrolled": true
   },
   "outputs": [
    {
     "name": "stdout",
     "output_type": "stream",
     "text": [
      "Derek Hawkins / @derekhawkins\n",
      "Sven-Erik Osterberg / @sverik\n",
      "Ryan Butz / @ryanbutz\n",
      "Example Exampleson / @example\n",
      "Ripal Pael / @ripalp\n",
      "Darth Vader / @darthvader\n"
     ]
    }
   ],
   "source": [
    "with open('files/names.txt') as file: \n",
    "    data = file.readlines()\n",
    "\n",
    "# print(data[0])\n",
    "\n",
    "# for line in data:\n",
    "#     handle_pattern = re.compile('@[a-zA-Z0-9]+\\s')\n",
    "#     handle = re.findall(handle_pattern, line)\n",
    "#     print(handle)\n",
    "    \n",
    "    \n",
    "#     if line[-1]:\n",
    "#         print(handle)\n",
    "#         last_first_name = re.compile('([A-Z][a-zA-Z]+), ([A-Z][a-zA-Z]+)', line)\n",
    "#         name = re.findall(last_first_name, line)\n",
    "#         for last, first in line[0]:\n",
    "#             print(f'{line[0][1]} {line[0][0]} / {handle}')\n",
    "\n",
    "# last_first_name = re.compile('([A-Z][a-zA-Z]+), ([A-Z][a-zA-Z]+)')\n",
    "# name = re.findall(last_first_name, data)\n",
    "# print(f'{name[0][1]} {name[0][0]}')\n",
    "\n",
    "# handle_pattern = re.compile('@[a-zA-Z0-9]+\\n')\n",
    "# handle = re.findall(handle_pattern, data)\n",
    "    \n",
    "    \n",
    "#     for last, first in names and handle in handles:\n",
    "#          print(f'{first} {last} / {handle}')\n",
    "    \n",
    "#can use f.readlines() to break up the data into individual lists based on lines\n",
    "\n",
    "#looking for people with a first and last name AND a twitter handle\n",
    "#once I have that list of tuples, I can index into each and print just what I want.\n",
    "#break it down\n",
    "\n",
    "#what am I looking for?\n",
    "#I\"m only looking for those names that have a twitter handle, so if a line has both then print\n",
    "\n",
    "for lines in data:\n",
    "    last_first_name = re.compile('([A-Z][a-zA-Z]+), ([\\w+]*-*[A-Z][a-zA-Z]+)')\n",
    "    names = re.findall(last_first_name, lines)\n",
    "\n",
    "    # twitter handle\n",
    "    handle_pattern = re.compile('@[a-zA-Z0-9]+\\n')\n",
    "    handles = re.findall(handle_pattern, lines)\n",
    "    for handle in handles: \n",
    "        twitter_handle = handle[:-1]\n",
    "        print(f'{names[0][1]} {names[0][0]} / {twitter_handle}')\n",
    "    \n"
   ]
  },
  {
   "cell_type": "code",
   "execution_count": 21,
   "metadata": {},
   "outputs": [
    {
     "name": "stdout",
     "output_type": "stream",
     "text": [
      "Derek Hawkins / @derekhawkins\n",
      "Sven-Erik Osterberg / @sverik\n",
      "Ryan Butz / @ryanbutz\n",
      "Example Exampleson / @example\n",
      "Ripal Pael / @ripalp\n",
      "Darth Vader / @darthvader\n"
     ]
    }
   ],
   "source": [
    "import re\n",
    "\n",
    "pattern = re.compile(\"(\\w+), ([\\w+]*-*[\\w]+).*\\s(@[\\w]+)\")\n",
    "\n",
    "# for data_groups in data:\n",
    "#     print(data_groups)\n",
    "\n",
    "\n",
    "for twitter_handle in data:\n",
    "    match = pattern.search(twitter_handle)\n",
    "    \n",
    "    if match:\n",
    "        print(f'{match.group(2)} {match.group(1)} / {match.group(3)}')"
   ]
  },
  {
   "cell_type": "code",
   "execution_count": null,
   "metadata": {},
   "outputs": [],
   "source": []
  },
  {
   "cell_type": "markdown",
   "metadata": {},
   "source": [
    "### Homework Exercise 2\n",
    "\n",
    "Use python to read the file regex_test.txt and print the last name on each line using regular expressions and groups (return None for names with no first and last name, or names that aren't properly capitalized)\n",
    "##### Hint: use with open() and readlines()"
   ]
  },
  {
   "cell_type": "code",
   "execution_count": null,
   "metadata": {},
   "outputs": [],
   "source": [
    "#if there is a middle name or abbreviation, print that as well \n",
    "#but given data we have, the output is below, look at aaron rogers example above\n",
    "\n",
    "\"\"\"\n",
    "Expected Output\n",
    "Abraham Lincoln\n",
    "Andrew P Garfield\n",
    "Connor Milliken\n",
    "Jordan Alexander Williams\n",
    "None\n",
    "None\n",
    "\"\"\"\n",
    "\n"
   ]
  },
  {
   "cell_type": "code",
   "execution_count": 22,
   "metadata": {},
   "outputs": [
    {
     "name": "stdout",
     "output_type": "stream",
     "text": [
      "Abraham Lincoln\n",
      "Andrew P Garfield\n",
      "Connor Milliken\n",
      "Jordan Alexander Williams\n",
      "None\n",
      "None\n"
     ]
    }
   ],
   "source": [
    "import re\n",
    "\n",
    "with open('files/regex_test.txt') as file: \n",
    "    data_1 = file.readlines()\n",
    "    \n",
    "# print(data_1)\n",
    "\n",
    "name_pattern = re.compile('([A-Z][a-z]+) *([\\w]+)* ([A-Z][a-z]+)')\n",
    "# name_pattern_2 = re.compile('([A-Z][a-z]+) ([A-Z][a-z]+)')\n",
    "\n",
    "for lines in data_1:\n",
    "    full_name = re.search(name_pattern, lines)\n",
    "    if not full_name:\n",
    "        print('None')\n",
    "    elif not full_name.group(2):\n",
    "        print(f'{full_name.group(1)} {full_name.group(3)}')\n",
    "    elif full_name.group(2):\n",
    "        print(f'{full_name.group(1)} {full_name.group(2)} {full_name.group(3)}')\n",
    "    \n",
    "    \n",
    "\n"
   ]
  },
  {
   "cell_type": "code",
   "execution_count": null,
   "metadata": {},
   "outputs": [],
   "source": []
  }
 ],
 "metadata": {
  "kernelspec": {
   "display_name": "Python 3",
   "language": "python",
   "name": "python3"
  }
 },
 "nbformat": 4,
 "nbformat_minor": 2
}
